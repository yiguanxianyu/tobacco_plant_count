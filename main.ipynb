{
 "cells": [
  {
   "cell_type": "code",
   "execution_count": 6,
   "metadata": {},
   "outputs": [],
   "source": [
    "# install GeoPandas before use\n",
    "import geopandas as gpd\n",
    "import pandas as pd\n",
    "from shapely.geometry import Point, LineString, Polygon"
   ]
  },
  {
   "cell_type": "code",
   "execution_count": 7,
   "metadata": {},
   "outputs": [],
   "source": [
    "def generate_OBB(input_path, output_path):\n",
    "    input_file = gpd.GeoSeries.from_file(input_path)\n",
    "    gpd.GeoSeries(geom.minimum_rotated_rectangle for geom in input_file).to_file(output_path)"
   ]
  },
  {
   "cell_type": "code",
   "execution_count": 8,
   "metadata": {},
   "outputs": [],
   "source": [
    "from math import sin, cos, radians, asin, sqrt\n",
    "\n",
    "\n",
    "def HAV(p1, p2):\n",
    "    \"\"\"\n",
    "    calculate distance through coordinates\n",
    "    p[0] refers to logitude, p[1] refers to latitude in degrees\n",
    "    \"\"\"\n",
    "    lam1, lam2 = radians(p1[0]), radians(p2[0])\n",
    "    phi1, phi2 = radians(p1[1]), radians(p2[1])\n",
    "    arg1 = sin((phi1 - phi2) / 2)\n",
    "    arg2 = sin((lam1 - lam2) / 2)\n",
    "    arg3 = cos(phi1) * cos(phi2)\n",
    "\n",
    "    return 2 * 6371000 * asin(sqrt(arg1 * arg1 + arg3 * arg2 * arg2))\n"
   ]
  },
  {
   "cell_type": "code",
   "execution_count": 9,
   "metadata": {},
   "outputs": [],
   "source": [
    "def cut_obb(obb, num1, num2):\n",
    "    \"\"\"\n",
    "    Cut OBB rectangle into num1*num2 grids\n",
    "    obb -> geom.minimum_rotated_rectangle.exterior.coords\n",
    "    num1 applies to p1-p2 edge, num2 applies to p2-p3 edge\n",
    "              num1\n",
    "    p4 +----------------+ p3\n",
    "       |                |\n",
    "       |                | num2\n",
    "       |                |\n",
    "    p1 +----------------+ P2\n",
    "    \"\"\"\n",
    "    p1, p2, p3, p4 = Point(obb[0]), Point(obb[1]), Point(obb[2]), Point(obb[3])\n",
    "    line1, line2 = LineString([p1, p2]), LineString([p4, p3])\n",
    "\n",
    "    points = []\n",
    "    # Generate grid points\n",
    "    for i in range(num1 + 1):\n",
    "        pointA = line1.interpolate(i / num1, normalized=True)\n",
    "        pointB = line2.interpolate(i / num1, normalized=True)\n",
    "        curr_line = LineString([pointA, pointB])\n",
    "        curr_row = [curr_line.interpolate(i / num2, normalized=True) for i in range(num2 + 1)]\n",
    "        points.append(curr_row)\n",
    "\n",
    "    polygons = []\n",
    "    # Connect points to create grids\n",
    "    for i in range(num1):\n",
    "        row1, row2 = points[i], points[i + 1]\n",
    "        polygons.extend(Polygon([row1[j], row2[j], row2[j + 1], row1[j + 1]]) for j in range(num2))\n",
    "\n",
    "    return polygons\n"
   ]
  },
  {
   "cell_type": "code",
   "execution_count": 15,
   "metadata": {},
   "outputs": [],
   "source": [
    "input_path = './data/15_label.shp'\n",
    "interval = 1  # 1 meter\n",
    "half_interval = interval * 0.5\n",
    "\n",
    "input_file = gpd.GeoSeries.from_file(input_path)\n",
    "generate_OBB(input_path, './data/15_label_obb.geojson')\n",
    "\n",
    "lst = []\n",
    "for geom in input_file:\n",
    "    obb = geom.minimum_rotated_rectangle.exterior\n",
    "    p1, p2, p3, p4, _ = list(obb.coords)\n",
    "    edge1, edge2 = HAV(p1, p2), HAV(p2, p3)\n",
    "\n",
    "    cut_num_1 = round(edge1 / interval) + int(edge1 < half_interval)\n",
    "    cut_num_2 = round(edge2 / interval) + int(edge2 < half_interval)\n",
    "\n",
    "    lst.append(gpd.GeoSeries(cut_obb(obb.coords, cut_num_1, cut_num_2)))\n",
    "\n",
    "recs = pd.concat(lst)\n",
    "recs.to_file(f'./data/cut_rec_{interval}m.geojson')\n",
    "recs.centroid.to_file(f'./data/cut_rec_centroid_{interval}m.geojson')"
   ]
  }
 ],
 "metadata": {
  "kernelspec": {
   "display_name": "Python 3.10.6 ('tobacco')",
   "language": "python",
   "name": "python3"
  },
  "language_info": {
   "codemirror_mode": {
    "name": "ipython",
    "version": 3
   },
   "file_extension": ".py",
   "mimetype": "text/x-python",
   "name": "python",
   "nbconvert_exporter": "python",
   "pygments_lexer": "ipython3",
   "version": "3.10.6"
  },
  "vscode": {
   "interpreter": {
    "hash": "858031f80d8c76267425074aef5c782355c0673446054d74c050fd84db10e775"
   }
  }
 },
 "nbformat": 4,
 "nbformat_minor": 2
}
