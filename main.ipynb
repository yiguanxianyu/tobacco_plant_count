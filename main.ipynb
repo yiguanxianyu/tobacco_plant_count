{
 "cells": [
  {
   "cell_type": "code",
   "execution_count": 10,
   "metadata": {},
   "outputs": [],
   "source": [
    "# install GeoPandas before use\n",
    "from math import asin, cos, radians, sin, sqrt\n",
    "import numpy as np\n",
    "import geopandas as gpd\n",
    "import pandas as pd\n",
    "from shapely.geometry import LineString, Point, Polygon"
   ]
  },
  {
   "cell_type": "code",
   "execution_count": null,
   "metadata": {},
   "outputs": [],
   "source": [
    "def generate_OBB(input_path, output_path):\n",
    "    input_file = gpd.GeoSeries.from_file(input_path)\n",
    "    gpd.GeoSeries(geom.minimum_rotated_rectangle for geom in input_file).to_file(output_path)"
   ]
  },
  {
   "cell_type": "code",
   "execution_count": null,
   "metadata": {},
   "outputs": [],
   "source": [
    "def HAV(p1, p2):\n",
    "    \"\"\"\n",
    "    calculate distance through coordinates\n",
    "    p[0] refers to logitude, p[1] refers to latitude in degrees\n",
    "    \"\"\"\n",
    "    lam1, lam2 = radians(p1[0]), radians(p2[0])\n",
    "    phi1, phi2 = radians(p1[1]), radians(p2[1])\n",
    "    arg1 = sin((phi1 - phi2) / 2)\n",
    "    arg2 = sin((lam1 - lam2) / 2)\n",
    "    arg3 = cos(phi1) * cos(phi2)\n",
    "\n",
    "    return 2 * 6371000 * asin(sqrt(arg1 * arg1 + arg3 * arg2 * arg2))"
   ]
  },
  {
   "cell_type": "code",
   "execution_count": null,
   "metadata": {},
   "outputs": [],
   "source": [
    "def cut_obb(obb, num1, num2):\n",
    "    \"\"\"\n",
    "    Cut OBB rectangle into num1*num2 grids\n",
    "    obb -> geom.minimum_rotated_rectangle.exterior.coords\n",
    "    num1 applies to p1-p2 edge, num2 applies to p2-p3 edge\n",
    "              num1\n",
    "    p4 +----------------+ p3\n",
    "       |                |\n",
    "       |                | num2\n",
    "       |                |\n",
    "    p1 +----------------+ P2\n",
    "    \"\"\"\n",
    "    p1, p2, p3, p4 = Point(obb[0]), Point(obb[1]), Point(obb[2]), Point(obb[3])\n",
    "    line1, line2 = LineString([p1, p2]), LineString([p4, p3])\n",
    "\n",
    "    points = []\n",
    "    # Generate grid points\n",
    "    for i in range(num1 + 1):\n",
    "        pointA = line1.interpolate(i / num1, normalized=True)\n",
    "        pointB = line2.interpolate(i / num1, normalized=True)\n",
    "        curr_line = LineString([pointA, pointB])\n",
    "        curr_row = [curr_line.interpolate(i / num2, normalized=True) for i in range(num2 + 1)]\n",
    "        points.append(curr_row)\n",
    "\n",
    "    polygons = []\n",
    "    # Connect points to create grids\n",
    "    for i in range(num1):\n",
    "        row1, row2 = points[i], points[i + 1]\n",
    "        polygons.extend(Polygon([row1[j], row2[j], row2[j + 1], row1[j + 1]]) for j in range(num2))\n",
    "\n",
    "    return polygons\n"
   ]
  },
  {
   "cell_type": "code",
   "execution_count": null,
   "metadata": {},
   "outputs": [],
   "source": [
    "input_path = './data/15_label.shp'\n",
    "interval = 1  # 1 meter\n",
    "half_interval = interval * 0.5\n",
    "\n",
    "input_file = gpd.GeoSeries.from_file(input_path)\n",
    "generate_OBB(input_path, './data/15_label_obb.geojson')\n",
    "\n",
    "lst = []\n",
    "for geom in input_file:\n",
    "    obb = geom.minimum_rotated_rectangle.exterior\n",
    "    p1, p2, p3, p4, _ = list(obb.coords)\n",
    "    edge1, edge2 = HAV(p1, p2), HAV(p2, p3)\n",
    "\n",
    "    cut_num_1 = round(edge1 / interval) + int(edge1 < half_interval)\n",
    "    cut_num_2 = round(edge2 / interval) + int(edge2 < half_interval)\n",
    "\n",
    "    lst.append(gpd.GeoSeries(cut_obb(obb.coords, cut_num_1, cut_num_2)))\n",
    "\n",
    "recs = pd.concat(lst)\n",
    "recs.to_file(f'./data/cut_rec_{interval}m.geojson')\n",
    "recs.centroid.to_file(f'./data/cut_rec_centroid_{interval}m.geojson')"
   ]
  },
  {
   "cell_type": "code",
   "execution_count": 11,
   "metadata": {},
   "outputs": [],
   "source": [
    "# 新版切割函数，这次只在长边方向上切\n",
    "\n",
    "\n",
    "def cut_polygon(geom, interval):\n",
    "    \"\"\"\n",
    "    Cut OBB rectangle into grids\n",
    "    \"\"\"\n",
    "    obb = geom.minimum_rotated_rectangle.exterior.coords\n",
    "    p1, p2, p3, p4 = Point(obb[0]), Point(obb[1]), Point(obb[2]), Point(obb[3])\n",
    "    dist1, dist2 = p1.distance(p2), p2.distance(p3)\n",
    "\n",
    "    if dist1 > dist2:\n",
    "        long_edge_1 = LineString([p1, p2])\n",
    "        long_edge_2 = LineString([p4, p3])\n",
    "        num = int(round(dist1 / interval) + int(dist1 * 2 < interval))\n",
    "    else:\n",
    "        long_edge_1 = LineString([p2, p3])\n",
    "        long_edge_2 = LineString([p1, p4])\n",
    "        num = int(round(dist2 / interval) + int(dist2 * 2 < interval))\n",
    "    # p1 will always on rhe left side\n",
    "\n",
    "    edge1_points = []\n",
    "    edge2_points = []\n",
    "    for i in range(num + 1):\n",
    "        edge1_points.append(long_edge_1.interpolate(i / num, normalized=True))\n",
    "        edge2_points.append(long_edge_2.interpolate(i / num, normalized=True))\n",
    "\n",
    "    polygons = []\n",
    "    for i in range(num):\n",
    "        polygons.append(Polygon([edge1_points[i], edge2_points[i], edge2_points[i + 1], edge1_points[i + 1]]))\n",
    "\n",
    "    return gpd.GeoSeries(polygons)\n",
    "\n",
    "\n",
    "interval = 0.62  # 1 meter\n",
    "gdf = gpd.GeoSeries.from_file(r'C:\\Users\\xianyu\\GraduationProject\\tobacco_plant_count\\data\\temp\\061301_pred_fat.shp')\n",
    "\n",
    "result = pd.concat(cut_polygon(geom, interval) for geom in gdf)\n",
    "result = result.set_crs(epsg=32647)\n",
    "result.to_file(r'C:\\Users\\xianyu\\GraduationProject\\tobacco_plant_count\\data\\temp\\061301_pred_fat_grid.shp')"
   ]
  },
  {
   "cell_type": "code",
   "execution_count": 52,
   "metadata": {},
   "outputs": [
    {
     "data": {
      "text/plain": [
       "{frozenset({<POINT (2 2)>, <POINT (3 3)>}),\n",
       " frozenset({<POINT (1 2)>, <POINT (2 2)>}),\n",
       " frozenset({<POINT (1 1)>, <POINT (1 2)>}),\n",
       " frozenset({<POINT (3 3)>, <POINT (4 4)>}),\n",
       " frozenset({<POINT (4 4)>, <POINT (5 5)>}),\n",
       " frozenset({<POINT (1 1)>, <POINT (2 2)>})}"
      ]
     },
     "execution_count": 52,
     "metadata": {},
     "output_type": "execute_result"
    }
   ],
   "source": [
    "import geopandas as gpd\n",
    "from shapely.geometry import Point\n",
    "from rtree import index\n",
    "\n",
    "# 假设你有以下的 GeoDataFrame\n",
    "gdf = gpd.GeoDataFrame(geometry=[Point(1, 1), Point(2, 2), Point(1, 2), Point(3, 3), Point(4, 4), Point(5, 5)])\n",
    "\n",
    "# 创建一个空的 R-tree 索引\n",
    "idx = index.Index()\n",
    "\n",
    "# 填充 R-tree 索引\n",
    "for i, geom in enumerate(gdf.geometry):\n",
    "    idx.insert(i, geom.bounds)\n",
    "\n",
    "# 定义一个阈值，小于该阈值的点对会被选出\n",
    "threshold = 1.5\n",
    "\n",
    "# 查询所有距离小于阈值的点对\n",
    "pairs = set()\n",
    "for i in range(len(gdf)):\n",
    "    geom = gdf.geometry[i]\n",
    "    possible_matches_index = list(idx.nearest((geom.x, geom.y), num_results=4))  # 获得可能的匹配\n",
    "    possible_matches = gdf.iloc[possible_matches_index]\n",
    "    precise_matches = possible_matches[possible_matches.distance(geom) < threshold]\n",
    "\n",
    "    for j, match in precise_matches.iterrows():\n",
    "        if i != j:\n",
    "            # 使用 frozenset 可以确保 (a, b) 和 (b, a) 被视为同一对\n",
    "            pair = frozenset([geom, match.geometry])\n",
    "            pairs.add(pair)\n",
    "\n",
    "pairs"
   ]
  }
 ],
 "metadata": {
  "kernelspec": {
   "display_name": "Python 3.10.6 ('tobacco')",
   "language": "python",
   "name": "python3"
  },
  "language_info": {
   "codemirror_mode": {
    "name": "ipython",
    "version": 3
   },
   "file_extension": ".py",
   "mimetype": "text/x-python",
   "name": "python",
   "nbconvert_exporter": "python",
   "pygments_lexer": "ipython3",
   "version": "3.10.10"
  },
  "vscode": {
   "interpreter": {
    "hash": "858031f80d8c76267425074aef5c782355c0673446054d74c050fd84db10e775"
   }
  }
 },
 "nbformat": 4,
 "nbformat_minor": 2
}
