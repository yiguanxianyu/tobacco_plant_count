{
 "cells": [
  {
   "cell_type": "code",
   "execution_count": 1,
   "metadata": {},
   "outputs": [],
   "source": [
    "# 使用了 GeoPandas 库\n",
    "import geopandas as gpd\n",
    "import pandas as pd\n",
    "from shapely.geometry import Point, LineString, Polygon"
   ]
  },
  {
   "cell_type": "code",
   "execution_count": 2,
   "metadata": {},
   "outputs": [],
   "source": [
    "def generate_OBB(input_path, output_path):\n",
    "    input_file = gpd.GeoSeries.from_file(input_path)\n",
    "    gpd.GeoSeries(geom.minimum_rotated_rectangle for geom in input_file).to_file(output_path)"
   ]
  },
  {
   "cell_type": "code",
   "execution_count": 3,
   "metadata": {},
   "outputs": [],
   "source": [
    "from math import sin, cos, radians, asin, sqrt\n",
    "\n",
    "\n",
    "def HAV(p1, p2):\n",
    "    # calculate distance through coordinates\n",
    "    # [0] refers to logitude，[1] refers to latitude in degrees\n",
    "    lam1, lam2 = radians(p1[0]), radians(p2[0])\n",
    "    phi1, phi2 = radians(p1[1]), radians(p2[1])\n",
    "    arg1 = sin((phi1 - phi2) / 2)\n",
    "    arg2 = sin((lam1 - lam2) / 2)\n",
    "    arg3 = cos(phi1) * cos(phi2)\n",
    "\n",
    "    return 2 * 6371000 * asin(sqrt(arg1 * arg1 + arg3 * arg2 * arg2))\n"
   ]
  },
  {
   "cell_type": "code",
   "execution_count": 4,
   "metadata": {},
   "outputs": [],
   "source": [
    "def cut_obb(obb, num1, num2):\n",
    "    # Cut OBB rectangle into grids\n",
    "    # obb -> geom.minimum_rotated_rectangle.exterior.coords\n",
    "    # num1 applies to p1-p2 edge, num2 applies to p2-p3 edge\n",
    "    p1, p2, p3, p4 = Point(obb[0]), Point(obb[1]), Point(obb[2]), Point(obb[3])\n",
    "    line1, line2 = LineString([p1, p2]), LineString([p4, p3])\n",
    "    edge1_points = [p1] + [line1.interpolate(i / num1, normalized=True) for i in range(1, num1)] + [p2]\n",
    "    edge2_points = [p4] + [line2.interpolate(i / num1, normalized=True) for i in range(1, num1)] + [p3]\n",
    "\n",
    "    points = []\n",
    "    for i in range(num1 + 1):\n",
    "        temp_p1, temp_p2 = edge1_points[i], edge2_points[i]\n",
    "        temp_line = LineString([temp_p1, temp_p2])\n",
    "        temp = [temp_p1] + [temp_line.interpolate(i / num2, normalized=True) for i in range(1, num2)] + [temp_p2]\n",
    "        points.append(temp)\n",
    "\n",
    "    polygons = []\n",
    "    for i in range(num1):\n",
    "        row1, row2 = points[i], points[i + 1]\n",
    "        polygons.extend(Polygon([row1[j], row2[j], row2[j + 1], row1[j + 1]]) for j in range(num2))\n",
    "\n",
    "    return polygons\n"
   ]
  },
  {
   "cell_type": "code",
   "execution_count": 5,
   "metadata": {},
   "outputs": [],
   "source": [
    "input_path = './data/15_label.shp'\n",
    "interval = 1  # 1 meter\n",
    "half_interval = interval * 0.5\n",
    "\n",
    "input_file = gpd.GeoSeries.from_file(input_path)\n",
    "generate_OBB(input_path, './data/15_label_obb.shp')\n",
    "\n",
    "lst = []\n",
    "for geom in input_file:\n",
    "    obb = geom.minimum_rotated_rectangle.exterior\n",
    "    p1, p2, p3, p4, _ = list(obb.coords)\n",
    "    edge1, edge2 = HAV(p1, p2), HAV(p2, p3)\n",
    "\n",
    "    cut_num_1 = round(edge1 / interval) + int(edge1 < half_interval)\n",
    "    cut_num_2 = round(edge2 / interval) + int(edge2 < half_interval)\n",
    "\n",
    "    lst.append(gpd.GeoSeries(cut_obb(obb.coords, cut_num_1, cut_num_2)))\n",
    "\n",
    "recs = pd.concat(lst)\n",
    "recs.to_file('./data/cut_rec.shp')\n",
    "recs.centroid.to_file('./data/cut_rec_centroid.shp')\n"
   ]
  }
 ],
 "metadata": {
  "kernelspec": {
   "display_name": "Python 3.10.6 ('tobacco')",
   "language": "python",
   "name": "python3"
  },
  "language_info": {
   "codemirror_mode": {
    "name": "ipython",
    "version": 3
   },
   "file_extension": ".py",
   "mimetype": "text/x-python",
   "name": "python",
   "nbconvert_exporter": "python",
   "pygments_lexer": "ipython3",
   "version": "3.10.6"
  },
  "orig_nbformat": 4,
  "vscode": {
   "interpreter": {
    "hash": "858031f80d8c76267425074aef5c782355c0673446054d74c050fd84db10e775"
   }
  }
 },
 "nbformat": 4,
 "nbformat_minor": 2
}
