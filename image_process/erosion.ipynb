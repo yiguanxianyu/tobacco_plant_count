{
 "cells": [
  {
   "cell_type": "code",
   "execution_count": null,
   "metadata": {},
   "outputs": [],
   "source": [
    "#基本导入\n",
    "import cv2\n",
    "import matplotlib.pyplot as plt\n",
    "import math\n",
    "import numpy as np\n",
    "%matplotlib inline\n",
    "\n",
    "path_raw = 'raw.tif'\n",
    "path_pred='pred.tif'\n",
    "img_pred = cv2.imread(path_pred, -1)\n",
    "img_raw = cv2.imread(path_raw)"
   ]
  },
  {
   "cell_type": "code",
   "execution_count": null,
   "metadata": {},
   "outputs": [],
   "source": [
    "# Extracting the height and width of an image\n",
    "print(\"Image Shape: {}\".format(img_pred.shape))\n",
    "plt.subplot(121)\n",
    "plt.imshow(img_pred, cmap='gray', vmin=0, vmax=1, interpolation='none')\n",
    "plt.subplot(122)\n",
    "plt.imshow(img_raw)"
   ]
  },
  {
   "cell_type": "code",
   "execution_count": null,
   "metadata": {},
   "outputs": [],
   "source": [
    "# 裁剪区域\n",
    "roii = img_pred[9700:10000, 7700:8000]\n",
    "plt.imshow(roii, cmap='gray', vmin=0, vmax=1, interpolation='none')"
   ]
  },
  {
   "cell_type": "code",
   "execution_count": null,
   "metadata": {},
   "outputs": [],
   "source": [
    "# 图像旋转\n",
    "center = (100, 100)  # 以图像中心为旋转中心\n",
    "angle = 20.2  # 顺时针旋转90°\n",
    "scale = 1  # 等比例旋转，即旋转后尺度不变\n",
    "\n",
    "M = cv2.getRotationMatrix2D(center, angle, scale)\n",
    "rotated = cv2.warpAffine(roii, M, roii.shape, flags=cv2.INTER_CUBIC)\n",
    "plt.imshow(rotated, cmap='gray', vmin=0, vmax=1, interpolation='none')"
   ]
  },
  {
   "cell_type": "code",
   "execution_count": null,
   "metadata": {},
   "outputs": [],
   "source": [
    "roi = img_pred[9700:9900, 7500:8000]\n",
    "kernel1 = np.ones((2, 2), np.uint8)\n",
    "kernel2 = np.ones((1, 4), np.uint8)\n",
    "erosion = cv2.erode(rotated, kernel1)\n",
    "erosion = cv2.erode(rotated, kernel2)\n",
    "plt.subplot(121)\n",
    "plt.imshow(erosion, cmap='gray', vmin=0, vmax=1, interpolation='none')\n",
    "plt.subplot(122)\n",
    "plt.imshow(rotated, cmap='gray', vmin=0, vmax=1, interpolation='none')\n"
   ]
  },
  {
   "cell_type": "code",
   "execution_count": null,
   "metadata": {},
   "outputs": [],
   "source": [
    "k = np.ones((2,2), np.uint8)\n",
    "open_m = cv2.morphologyEx(rotated, cv2.MORPH_OPEN, k)\n",
    "plt.subplot(121)\n",
    "plt.imshow(open_m, cmap='gray', vmin=0, vmax=1, interpolation='none')\n",
    "plt.subplot(122)\n",
    "plt.imshow(rotated, cmap='gray', vmin=0, vmax=1, interpolation='none')\n"
   ]
  },
  {
   "cell_type": "code",
   "execution_count": null,
   "metadata": {},
   "outputs": [],
   "source": [
    "erosion[np.where(erosion > 0)] = 2\n",
    "\n",
    "plt.imshow(cv2.add(open_m,rotated), cmap='gray', vmin=0, vmax=2, interpolation='none')"
   ]
  }
 ],
 "metadata": {
  "kernelspec": {
   "display_name": "Python 3.10.6 ('tobacco')",
   "language": "python",
   "name": "python3"
  },
  "language_info": {
   "codemirror_mode": {
    "name": "ipython",
    "version": 3
   },
   "file_extension": ".py",
   "mimetype": "text/x-python",
   "name": "python",
   "nbconvert_exporter": "python",
   "pygments_lexer": "ipython3",
   "version": "3.10.6"
  },
  "orig_nbformat": 4,
  "vscode": {
   "interpreter": {
    "hash": "858031f80d8c76267425074aef5c782355c0673446054d74c050fd84db10e775"
   }
  }
 },
 "nbformat": 4,
 "nbformat_minor": 2
}
