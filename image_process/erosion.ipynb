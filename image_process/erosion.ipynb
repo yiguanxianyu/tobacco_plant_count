{
 "cells": [
  {
   "cell_type": "code",
   "execution_count": null,
   "metadata": {},
   "outputs": [],
   "source": [
    "#基本导入\n",
    "import cv2 as cv\n",
    "import matplotlib.pyplot as plt\n",
    "import math\n",
    "import numpy as np\n",
    "%matplotlib inline\n"
   ]
  },
  {
   "cell_type": "code",
   "execution_count": null,
   "metadata": {},
   "outputs": [],
   "source": [
    "# Read files\n",
    "path_raw = 'raw.tif'\n",
    "path_pred = 'pred.tif'\n",
    "img_pred = cv.imread(path_pred, -1)\n",
    "img_raw = cv.imread(path_raw)\n",
    "# Extracting the height and width of an image\n",
    "print(\"Image Shape: {}\".format(img_pred.shape))\n",
    "plt.subplot(121)\n",
    "plt.imshow(img_pred, cmap='gray', vmin=0, vmax=1, interpolation='none')\n",
    "plt.subplot(122)\n",
    "plt.imshow(img_raw)"
   ]
  },
  {
   "cell_type": "code",
   "execution_count": null,
   "metadata": {},
   "outputs": [],
   "source": [
    "# 裁剪区域\n",
    "# roi = img_pred[9800:9900, 7900:8000]\n",
    "roi = img_pred[9700:9900, 7700:7900]\n",
    "h, w = roi.shape[0:2]\n",
    "print(h, w)\n"
   ]
  },
  {
   "cell_type": "code",
   "execution_count": null,
   "metadata": {},
   "outputs": [],
   "source": [
    "# 图像旋转\n",
    "scale = 1  # 等比例旋转，即旋转后尺度不变\n",
    "angle = 20.2  # 顺时针旋转 xx°\n",
    "angle_rad = math.radians(angle)  # 弧度\n",
    "padding_rate = (math.sin(angle_rad) + math.cos(angle_rad) - 1) / 2  # padding比例\n",
    "padding_h, padding_w = h * padding_rate, w * padding_rate  # pad长宽的浮点数值\n",
    "pad_hi, pad_wi = 1 + int(padding_h), 1 + int(padding_w)# pad长宽的整数值\n",
    "center = (round(h / 2 + padding_h), round(w / 2 + padding_w))  # 以图像中心为旋转中心\n",
    "\n",
    "roi_ = cv.copyMakeBorder(\n",
    "    roi,\n",
    "    pad_hi,\n",
    "    pad_hi,\n",
    "    pad_wi,\n",
    "    pad_wi,\n",
    "    cv.BORDER_CONSTANT,\n",
    ")\n",
    "\n",
    "rotate_maxtrix = cv.getRotationMatrix2D(center, angle, scale)\n",
    "rotated = cv.warpAffine(roi_, rotate_maxtrix, roi_.shape, flags=cv.INTER_CUBIC)\n",
    "\n",
    "plt.subplot(121)\n",
    "plt.imshow(roi, cmap='gray', vmin=0, vmax=1, interpolation='none')\n",
    "plt.subplot(122)\n",
    "plt.imshow(rotated, cmap='gray', vmin=0, vmax=1, interpolation='none')\n"
   ]
  },
  {
   "cell_type": "code",
   "execution_count": null,
   "metadata": {},
   "outputs": [],
   "source": [
    "# 开运算\n",
    "k = np.ones((2, 2), np.uint8)\n",
    "open_m = cv.morphologyEx(rotated, cv.MORPH_OPEN, k)\n",
    "plt.subplot(131)\n",
    "plt.imshow(open_m, cmap='gray', vmin=0, vmax=1, interpolation='none')\n",
    "plt.subplot(132)\n",
    "plt.imshow(rotated, cmap='gray', vmin=0, vmax=1, interpolation='none')\n",
    "plt.subplot(133)\n",
    "plt.imshow(cv.add(open_m, rotated), cmap='gray', vmin=0, vmax=2, interpolation='none')\n"
   ]
  },
  {
   "cell_type": "code",
   "execution_count": null,
   "metadata": {},
   "outputs": [],
   "source": [
    "# 形态学 腐蚀\n",
    "kernel = np.ones((1, 6), np.uint8)\n",
    "erosion = cv.erode(open_m, kernel)\n",
    "\n",
    "ero1 = cv.erode(open_m, np.ones((2, 5), np.uint8))\n",
    "ero2 = cv.erode(open_m, np.ones((2, 8), np.uint8))\n",
    "print(np.max(ero1), np.max(ero2))\n",
    "\n",
    "plt.subplot(121)\n",
    "plt.imshow(ero1, cmap='gray', vmin=0, vmax=1, interpolation='none')\n",
    "plt.subplot(122)\n",
    "plt.imshow(ero2, cmap='gray', vmin=0, vmax=1, interpolation='none')\n",
    "\n",
    "# plt.imshow(open_m, cmap='gray', vmin=0, vmax=1, interpolation='none')"
   ]
  },
  {
   "cell_type": "code",
   "execution_count": null,
   "metadata": {},
   "outputs": [],
   "source": [
    "# 距离变换\n",
    "dist_transform = cv.distanceTransform(open_m, cv.DIST_L2, 5)\n",
    "ret, sure_fg = cv.threshold(dist_transform, 0.5 * dist_transform.max(), 1, 0)\n",
    "print(ret)\n",
    "plt.subplot(121)\n",
    "plt.imshow(sure_fg, cmap='gray', vmin=0, vmax=1, interpolation='none')\n",
    "plt.subplot(122)\n",
    "plt.imshow(open_m, cmap='gray', vmin=0, vmax=1, interpolation='none')"
   ]
  },
  {
   "cell_type": "code",
   "execution_count": null,
   "metadata": {},
   "outputs": [],
   "source": [
    "from skimage import morphology\n",
    "\n",
    "sk = morphology.skeletonize(ero1).astype(np.uint8)\n",
    "# sk[np.where(sk > 0)] = 1\n",
    "plt.imshow(cv.add(sk, ero1), cmap='gray', vmin=0, vmax=2, interpolation='none')"
   ]
  },
  {
   "cell_type": "code",
   "execution_count": null,
   "metadata": {},
   "outputs": [],
   "source": [
    "dst = dist_transform.astype(np.uint8)\n",
    "print()\n",
    "plt.imshow(dst, cmap='gray', vmin=0, vmax=np.max(dst), interpolation='none')\n"
   ]
  },
  {
   "cell_type": "code",
   "execution_count": null,
   "metadata": {},
   "outputs": [],
   "source": [
    "from osgeo import gdal\n",
    "import sys\n",
    "\n",
    "\n",
    "def Read_img2array(img_file_path):\n",
    "    \"\"\"\n",
    "    读取栅格数据，将其转换成对应数组\n",
    "    img_file_path: 栅格数据路径\n",
    "    :return: 返回投影，几何信息，和转换后的数组\n",
    "    \"\"\"\n",
    "    dataset = gdal.Open(img_file_path)  # 读取栅格数据\n",
    "    print('处理图像波段数总共有：', dataset.RasterCount)\n",
    "    # 判断是否读取到数据\n",
    "    if dataset is None:\n",
    "        print('Unable to open *.tif')\n",
    "        sys.exit(1)  # 退出\n",
    "    projection = dataset.GetProjection()  # 投影\n",
    "    geotrans = dataset.GetGeoTransform()  # 几何信息\n",
    "    im_width = dataset.RasterXSize  #栅格矩阵的列数\n",
    "    im_height = dataset.RasterYSize  #栅格矩阵的行数\n",
    "    im_bands = dataset.RasterCount  #波段数\n",
    "    # 直接读取dataset\n",
    "    img_array = dataset.ReadAsArray()\n",
    "    return im_width, im_height, im_bands, projection, geotrans, img_array\n",
    "\n",
    "\n",
    "dat = Read_img2array('raw.tif')\n",
    "print(dat[0:2])\n",
    "print(dat[4])\n"
   ]
  }
 ],
 "metadata": {
  "kernelspec": {
   "display_name": "Python 3.10.6 ('tobacco')",
   "language": "python",
   "name": "python3"
  },
  "language_info": {
   "codemirror_mode": {
    "name": "ipython",
    "version": 3
   },
   "file_extension": ".py",
   "mimetype": "text/x-python",
   "name": "python",
   "nbconvert_exporter": "python",
   "pygments_lexer": "ipython3",
   "version": "3.10.6"
  },
  "orig_nbformat": 4,
  "vscode": {
   "interpreter": {
    "hash": "858031f80d8c76267425074aef5c782355c0673446054d74c050fd84db10e775"
   }
  }
 },
 "nbformat": 4,
 "nbformat_minor": 2
}
