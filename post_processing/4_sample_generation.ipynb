{
 "cells": [
  {
   "cell_type": "code",
   "execution_count": 3,
   "metadata": {},
   "outputs": [],
   "source": [
    "import cv2\n",
    "import matplotlib.pyplot as plt\n",
    "import numpy as np\n",
    "import rasterio\n",
    "from rasterio.features import shapes\n",
    "from rasterio.windows import Window\n",
    "from shapely.geometry import Point, Polygon, shape\n",
    "from random import random\n",
    "from pathlib import Path\n"
   ]
  },
  {
   "cell_type": "code",
   "execution_count": 4,
   "metadata": {},
   "outputs": [],
   "source": [
    "base_path = Path(r'C:\\Users\\xianyu\\GraduationProject\\UAV_YUNNAN_DATA\\last_labels_061303')\n",
    "\n",
    "for i in range(1, 31):\n",
    "    test_path = base_path / f'test\\{i:02d}'\n",
    "    test_path.mkdir(parents=True, exist_ok=True)\n",
    "    train_path = base_path / f'train\\{i:02d}'\n",
    "    train_path.mkdir(parents=True, exist_ok=True)\n"
   ]
  },
  {
   "cell_type": "code",
   "execution_count": 5,
   "metadata": {},
   "outputs": [],
   "source": [
    "interval = 0.58\n",
    "mean_area = 0.305\n",
    "\n",
    "\n",
    "def cut_polygon(geom):\n",
    "    \"\"\"\n",
    "    Cut OBB rectangle into grids\n",
    "    \"\"\"\n",
    "    obb = geom.minimum_rotated_rectangle.exterior.coords\n",
    "    p1, p2, p3 = Point(obb[0]), Point(obb[1]), Point(obb[2])\n",
    "    dist1, dist2 = p1.distance(p2), p2.distance(p3)\n",
    "    if dist1 > dist2:\n",
    "        cut_num = round(dist1 / interval) + int(dist1 * 2 < interval)\n",
    "        short_edge = dist2\n",
    "    else:\n",
    "        cut_num = round(dist2 / interval) + int(dist2 * 2 < interval)\n",
    "        short_edge = dist1\n",
    "    return cut_num, short_edge"
   ]
  },
  {
   "cell_type": "code",
   "execution_count": 6,
   "metadata": {},
   "outputs": [],
   "source": [
    "src = rasterio.open(r'C:\\Users\\xianyu\\GraduationProject\\tobacco_plant_count\\data\\temp\\061303cut\\061303_cut_1.tif')\n",
    "\n",
    "num_labels, labels, stats, centroids = cv2.connectedComponentsWithStats(src.read(1), connectivity=4)\n",
    "\n",
    "size = 224\n",
    "\n",
    "for i in range(1, num_labels):\n",
    "    y0, x0, h, w, num_pixels = stats[i]\n",
    "\n",
    "    if h > size or w > size:\n",
    "        continue\n",
    "    if num_pixels < 32:\n",
    "        continue\n",
    "\n",
    "    transform = src.window_transform(Window(y0, x0, h, w))\n",
    "\n",
    "    xs, ys = np.where(labels[x0:x0 + w, y0:y0 + h] == i)\n",
    "    xs += (size - w) // 2\n",
    "    ys += (size - h) // 2\n",
    "    output = np.zeros((size, size), dtype=np.uint8)\n",
    "    output[xs, ys] = 255\n",
    "    shape_results = shapes(output, transform=transform, mask=output)\n",
    "\n",
    "    for string, value in shape_results:\n",
    "        polygon = shape(string)\n",
    "        cut_num, short_edge = cut_polygon(polygon)\n",
    "\n",
    "        if short_edge >= 1.2:\n",
    "            cut_num = round(polygon.area / mean_area)\n",
    "        rand = random()\n",
    "\n",
    "        if cut_num < 6 or cut_num > 28:\n",
    "            continue\n",
    "\n",
    "        if rand > 0.8:\n",
    "            path = base_path / f'test/{cut_num:02d}\\{i}.png'\n",
    "        else:\n",
    "            path = base_path / f'train/{cut_num:02d}\\{i}.png'\n",
    "\n",
    "        cv2.imwrite(str(path), output)"
   ]
  },
  {
   "cell_type": "code",
   "execution_count": null,
   "metadata": {},
   "outputs": [],
   "source": [
    "# src = rasterio.open(r\"D:\\UAV_DATA_NEW\\output\\2_dilated\\061301_dilated.tif\")\n",
    "# window = Window(7000, 3000, 2000, 4000)\n",
    "# data = src.read(1, window=window)\n",
    "\n",
    "# with rasterio.open(r'C:\\Users\\xianyu\\GraduationProject\\tobacco_plant_count\\data\\temp\\cut.tif',\n",
    "#                    'w',\n",
    "#                    driver='GTiff',\n",
    "#                    width=2000,\n",
    "#                    height=4000,\n",
    "#                    count=1,\n",
    "#                    dtype=rasterio.uint8,\n",
    "#                    transform=src.window_transform(window),\n",
    "#                    crs=src.crs) as dst:\n",
    "#     dst.write(data, 1)"
   ]
  },
  {
   "cell_type": "code",
   "execution_count": null,
   "metadata": {},
   "outputs": [],
   "source": [
    "# import torch\n",
    "# import numpy as np\n",
    "# import time\n",
    "\n",
    "# a = torch.arange(0, 20000 * 20000).reshape(20000, 20000)\n",
    "\n",
    "# time1 = time.time()\n",
    "# for i in range(30):\n",
    "#     a * a + 1\n",
    "# time2 = time.time()\n",
    "# print(time2 - time1)\n",
    "\n",
    "# a = a.cuda()\n",
    "\n",
    "# time1 = time.time()\n",
    "# for i in range(30):\n",
    "#     a * a + 1\n",
    "# time2 = time.time()\n",
    "# print(time2 - time1)\n",
    "\n",
    "# a = np.arange(0, 20000 * 20000).reshape(20000, 20000)\n",
    "\n",
    "# time1 = time.time()\n",
    "# for i in range(30):\n",
    "#     a * a + 1\n",
    "# time2 = time.time()\n",
    "# print(time2 - time1)"
   ]
  }
 ],
 "metadata": {
  "kernelspec": {
   "display_name": "toba",
   "language": "python",
   "name": "python3"
  },
  "language_info": {
   "codemirror_mode": {
    "name": "ipython",
    "version": 3
   },
   "file_extension": ".py",
   "mimetype": "text/x-python",
   "name": "python",
   "nbconvert_exporter": "python",
   "pygments_lexer": "ipython3",
   "version": "3.11.3"
  },
  "orig_nbformat": 4
 },
 "nbformat": 4,
 "nbformat_minor": 2
}
