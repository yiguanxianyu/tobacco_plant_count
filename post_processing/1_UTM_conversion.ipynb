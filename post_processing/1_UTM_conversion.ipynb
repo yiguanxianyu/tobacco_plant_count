{
 "cells": [
  {
   "cell_type": "code",
   "execution_count": 2,
   "metadata": {},
   "outputs": [],
   "source": [
    "from pathlib import Path\n",
    "\n",
    "import numpy as np\n",
    "import rasterio\n",
    "from rasterio.crs import CRS\n",
    "from rasterio.warp import calculate_default_transform, reproject"
   ]
  },
  {
   "cell_type": "code",
   "execution_count": 3,
   "metadata": {},
   "outputs": [],
   "source": [
    "output_crs = CRS.from_epsg(32647)\n",
    "resolution = (0.0714906612329378, 0.0714906612329378)\n"
   ]
  },
  {
   "cell_type": "code",
   "execution_count": 12,
   "metadata": {},
   "outputs": [
    {
     "name": "stdout",
     "output_type": "stream",
     "text": [
      "061301_result.tif\n",
      "061302_result.tif\n",
      "061303_result.tif\n",
      "061306_result.tif\n",
      "061308_result.tif\n"
     ]
    }
   ],
   "source": [
    "def run(input_raster, output_raster):\n",
    "    src = rasterio.open(input_raster)\n",
    "    # 创建一个rasterio.crs.CRS对象来表示目标坐标系\n",
    "    # 使用rasterio.warp.calculate_default_transform函数进行转换\n",
    "    dst_transform, dst_width, dst_height = calculate_default_transform(src.crs, output_crs, src.width, src.height,\n",
    "                                                                       *src.bounds,resolution=resolution)\n",
    "\n",
    "\n",
    "    profile = src.meta.copy()\n",
    "    profile.update({\n",
    "        'crs': output_crs,\n",
    "        'transform': dst_transform,\n",
    "        'width': dst_width,\n",
    "        'height': dst_height,\n",
    "        'nodata': 0,\n",
    "        'compress': 'deflate'\n",
    "    })\n",
    "\n",
    "    dst_img = np.zeros((dst_height, dst_width), dtype=profile['dtype'])\n",
    "    # 重投影\n",
    "    reproject(source=src.read(1),\n",
    "              destination=dst_img,\n",
    "              src_crs=src.crs,\n",
    "              src_transform=src.transform,\n",
    "              dst_transform=dst_transform,\n",
    "              dst_crs=output_crs,\n",
    "              num_threads=4)\n",
    "\n",
    "    with rasterio.open(output_raster, 'w', **profile) as dst:\n",
    "        dst.write(dst_img, 1)\n",
    "\n",
    "\n",
    "# 设置目录路径和文件后缀\n",
    "dir_path = Path(r'D:\\UAV_DATA_NEW\\deprecated\\3_predict_result')\n",
    "output_path = Path(r'D:\\UAV_DATA_NEW\\output\\1_UTM47N')\n",
    "# 循环处理每个文件\n",
    "for input_raster in dir_path.glob(f'*.tif'):\n",
    "    # 获取文件名和后缀\n",
    "    file_name = input_raster.stem[0:6]\n",
    "    output_raster = output_path / f'{file_name}_UTM47N.tif'\n",
    "    print(input_raster.name)\n",
    "    run(input_raster, output_raster)"
   ]
  },
  {
   "cell_type": "code",
   "execution_count": 24,
   "metadata": {},
   "outputs": [
    {
     "name": "stdout",
     "output_type": "stream",
     "text": [
      "D:\\UAV_DATA_NEW\\0_raw_img_UTM47N\\061301_UTM47N.tif\n",
      "D:\\UAV_DATA_NEW\\0_raw_img_UTM47N\\061302_UTM47N.tif\n",
      "D:\\UAV_DATA_NEW\\0_raw_img_UTM47N\\061303_UTM47N.tif\n",
      "D:\\UAV_DATA_NEW\\0_raw_img_UTM47N\\061306_UTM47N.tif\n",
      "D:\\UAV_DATA_NEW\\0_raw_img_UTM47N\\061308_UTM47N.tif\n"
     ]
    }
   ],
   "source": [
    "def run(input_raster, output_raster):\n",
    "    src = rasterio.open(input_raster)\n",
    "    # 创建一个rasterio.crs.CRS对象来表示目标坐标系\n",
    "    output_crs = CRS.from_epsg(32647)\n",
    "    # 使用rasterio.warp.calculate_default_transform函数进行转换\n",
    "    dst_transform, dst_width, dst_height = calculate_default_transform(src.crs, output_crs, src.width, src.height,\n",
    "                                                                       *src.bounds)\n",
    "\n",
    "    profile = src.meta.copy()\n",
    "    profile.update({\n",
    "        'crs': output_crs,\n",
    "        'transform': dst_transform,\n",
    "        'width': dst_width,\n",
    "        'height': dst_height,\n",
    "        'nodata': 0\n",
    "    })\n",
    "\n",
    "    origin_img = src.read([1, 2, 3])\n",
    "    r, g, b = origin_img\n",
    "    mask = (r == 255) & (g == 255) & (b == 255)\n",
    "\n",
    "    origin_img[0][mask] = 0\n",
    "    origin_img[1][mask] = 0\n",
    "    origin_img[2][mask] = 0\n",
    "\n",
    "    src_img = np.zeros((3, dst_height, dst_width), dtype=profile['dtype'])\n",
    "    # 重投影\n",
    "    reproject(source=origin_img,\n",
    "              destination=src_img,\n",
    "              src_crs=src.crs,\n",
    "              src_transform=src.transform,\n",
    "              dst_transform=dst_transform,\n",
    "              dst_crs=output_crs,\n",
    "              num_threads=4)\n",
    "\n",
    "    with rasterio.open(output_raster, 'w', **profile) as dst:\n",
    "        dst.write(src_img, [1, 2, 3])\n",
    "\n",
    "\n",
    "# 设置目录路径和文件后缀\n",
    "dir_path = Path(r'D:\\UAV_DATA_NEW\\0_raw_img')\n",
    "output_path = Path(r'D:\\UAV_DATA_NEW\\0_raw_img_UTM47N')\n",
    "# 循环处理每个文件\n",
    "for input_raster in dir_path.glob(f'*.tif'):\n",
    "    # 获取文件名\n",
    "    file_name = input_raster.stem[6:12]\n",
    "    output_raster = output_path / f'{file_name}_UTM47N.tif'\n",
    "    print(output_raster)\n",
    "    run(input_raster, output_raster)"
   ]
  }
 ],
 "metadata": {
  "kernelspec": {
   "display_name": "tobacco",
   "language": "python",
   "name": "python3"
  },
  "language_info": {
   "codemirror_mode": {
    "name": "ipython",
    "version": 3
   },
   "file_extension": ".py",
   "mimetype": "text/x-python",
   "name": "python",
   "nbconvert_exporter": "python",
   "pygments_lexer": "ipython3",
   "version": "3.11.3"
  },
  "orig_nbformat": 4
 },
 "nbformat": 4,
 "nbformat_minor": 2
}
