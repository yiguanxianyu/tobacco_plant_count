{
 "cells": [
  {
   "cell_type": "code",
   "execution_count": null,
   "metadata": {},
   "outputs": [],
   "source": [
    "import geopandas as gpd\n",
    "import matplotlib.pyplot as plt\n",
    "import numpy as np"
   ]
  },
  {
   "cell_type": "code",
   "execution_count": null,
   "metadata": {},
   "outputs": [],
   "source": [
    "original_path = r\"D:\\UAV_DATA_NEW\\output\\2_polygonize\\061301_result_opened_polygonized.shp\"\n",
    "obb_path = r\"D:\\UAV_DATA_NEW\\output\\3_obb\\061301_result_opened_polygonized_obb.shp\"\n",
    "\n",
    "original_file = gpd.GeoSeries.from_file(original_path).set_crs(epsg=4326).to_crs(epsg=3857)\n",
    "obb_file = gpd.GeoSeries.from_file(obb_path).set_crs(epsg=4326).to_crs(epsg=3857)\n"
   ]
  },
  {
   "cell_type": "code",
   "execution_count": null,
   "metadata": {},
   "outputs": [],
   "source": [
    "rel_area = np.array(original_file.area) / np.array(obb_file.area)\n",
    "\n",
    "plt.hist(rel_area, np.arange(0.4, 1, 0.01), facecolor='g', alpha=0.75)\n",
    "plt.show()"
   ]
  },
  {
   "cell_type": "code",
   "execution_count": null,
   "metadata": {},
   "outputs": [],
   "source": [
    "index = np.where(rel_area < 0.6)\n",
    "print(index)"
   ]
  },
  {
   "cell_type": "code",
   "execution_count": null,
   "metadata": {},
   "outputs": [],
   "source": [
    "original_file.loc[index].to_file(r\"D:\\UAV_DATA_NEW\\output\\area\\polygonize_morph_P061301_result_filtered.shp\",)\n",
    "obb_file.loc[index].to_file(r\"D:\\UAV_DATA_NEW\\output\\area\\polygonize_morph_P061301_result_filtered_obb.shp\")\n"
   ]
  }
 ],
 "metadata": {
  "kernelspec": {
   "display_name": "tobacco",
   "language": "python",
   "name": "python3"
  },
  "language_info": {
   "codemirror_mode": {
    "name": "ipython",
    "version": 3
   },
   "file_extension": ".py",
   "mimetype": "text/x-python",
   "name": "python",
   "nbconvert_exporter": "python",
   "pygments_lexer": "ipython3",
   "version": "3.11.0"
  },
  "orig_nbformat": 4
 },
 "nbformat": 4,
 "nbformat_minor": 2
}
