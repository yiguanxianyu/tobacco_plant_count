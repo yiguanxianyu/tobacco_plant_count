{
 "cells": [
  {
   "cell_type": "code",
   "execution_count": 13,
   "metadata": {},
   "outputs": [],
   "source": [
    "import geopandas as gpd\n",
    "import numpy as np\n",
    "import pandas as pd\n",
    "import rtree"
   ]
  },
  {
   "cell_type": "code",
   "execution_count": 14,
   "metadata": {},
   "outputs": [],
   "source": [
    "input_result = r\"D:\\UAV_DATA_NEW\\output\\5_results\\061302\\061302_spec_centroid_resnext50_weighted_ep50.shp\"\n",
    "input_truth = r\"C:\\Users\\xianyu\\GraduationProject\\UAV_YUNNAN_DATA\\验证样本\\061302_2.shp\"\n",
    "\n",
    "pred_result = gpd.read_file(input_result)\n",
    "truth = gpd.read_file(input_truth)"
   ]
  },
  {
   "cell_type": "code",
   "execution_count": 15,
   "metadata": {},
   "outputs": [
    {
     "name": "stdout",
     "output_type": "stream",
     "text": [
      "Mean distance:  0.15511528505635083\n"
     ]
    }
   ],
   "source": [
    "index = rtree.index.Index()\n",
    "for i, point in truth.iterrows():\n",
    "    index.insert(i, point.geometry.bounds, obj=point.geometry)\n",
    "\n",
    "bbox = truth.bounds\n",
    "filtered_gdf2 = pred_result.cx[bbox.minx.min():bbox.maxx.max(), bbox.miny.min():bbox.maxy.max()]\n",
    "\n",
    "distance = []\n",
    "for point in filtered_gdf2.geometry:\n",
    "    match = list(index.nearest(point.bounds, 1, objects=True))\n",
    "    distance.append(match[0].object.distance(point))\n",
    "\n",
    "print(\"Mean distance: \", np.mean(distance))"
   ]
  },
  {
   "cell_type": "code",
   "execution_count": 17,
   "metadata": {},
   "outputs": [
    {
     "data": {
      "text/plain": [
       "(1.0668563300142246, 750, 703)"
      ]
     },
     "execution_count": 17,
     "metadata": {},
     "output_type": "execute_result"
    }
   ],
   "source": [
    "a = len(filtered_gdf2)\n",
    "b = len(truth)\n",
    "a / b, a, b\n"
   ]
  }
 ],
 "metadata": {
  "kernelspec": {
   "display_name": "tobacco",
   "language": "python",
   "name": "python3"
  },
  "language_info": {
   "codemirror_mode": {
    "name": "ipython",
    "version": 3
   },
   "file_extension": ".py",
   "mimetype": "text/x-python",
   "name": "python",
   "nbconvert_exporter": "python",
   "pygments_lexer": "ipython3",
   "version": "3.11.3"
  },
  "orig_nbformat": 4
 },
 "nbformat": 4,
 "nbformat_minor": 2
}
