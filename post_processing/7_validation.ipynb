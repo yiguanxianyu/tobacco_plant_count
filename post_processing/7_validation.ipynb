{
 "cells": [
  {
   "cell_type": "code",
   "execution_count": 9,
   "metadata": {},
   "outputs": [],
   "source": [
    "import geopandas as gpd\n",
    "import numpy as np\n",
    "import pandas as pd\n",
    "import rtree"
   ]
  },
  {
   "cell_type": "code",
   "execution_count": 10,
   "metadata": {},
   "outputs": [],
   "source": [
    "input_result = r\"D:\\UAV_DATA_NEW\\output\\5_results\\061301\\kmeans\\061301_kmeans_centroid_pointprocessed.shp\"\n",
    "input_truth = r\"C:\\Users\\xianyu\\GraduationProject\\UAV_YUNNAN_DATA\\验证样本\\061301_2.shp\"\n",
    "\n",
    "pred_result = gpd.read_file(input_result)\n",
    "truth = gpd.read_file(input_truth)"
   ]
  },
  {
   "cell_type": "code",
   "execution_count": 11,
   "metadata": {},
   "outputs": [
    {
     "name": "stdout",
     "output_type": "stream",
     "text": [
      "Mean distance:  0.12239137820997892\n"
     ]
    }
   ],
   "source": [
    "index = rtree.index.Index()\n",
    "for i, point in truth.iterrows():\n",
    "    index.insert(i, point.geometry.bounds, obj=point.geometry)\n",
    "\n",
    "bbox = truth.bounds\n",
    "filtered_gdf2 = pred_result.cx[bbox.minx.min():bbox.maxx.max(), bbox.miny.min():bbox.maxy.max()]\n",
    "\n",
    "distance = []\n",
    "for point in filtered_gdf2.geometry:\n",
    "    match = list(index.nearest(point.bounds, 1, objects=True))\n",
    "    distance.append(match[0].object.distance(point))\n",
    "\n",
    "print(\"Mean distance: \", np.mean(distance))"
   ]
  },
  {
   "cell_type": "code",
   "execution_count": 12,
   "metadata": {},
   "outputs": [
    {
     "data": {
      "text/plain": [
       "(1.0313837375178316, 723, 701)"
      ]
     },
     "execution_count": 12,
     "metadata": {},
     "output_type": "execute_result"
    },
    {
     "ename": "",
     "evalue": "",
     "output_type": "error",
     "traceback": [
      "\u001b[1;31m在当前单元格或上一个单元格中执行代码时 Kernel 崩溃。请查看单元格中的代码，以确定故障的可能原因。有关详细信息，请单击 <a href='https://aka.ms/vscodeJupyterKernelCrash'>此处</a>。有关更多详细信息，请查看 Jupyter <a href='command:jupyter.viewOutput'>log</a>。"
     ]
    }
   ],
   "source": [
    "a = len(filtered_gdf2)\n",
    "b = len(truth)\n",
    "a / b, a, b\n"
   ]
  }
 ],
 "metadata": {
  "kernelspec": {
   "display_name": "tobacco",
   "language": "python",
   "name": "python3"
  },
  "language_info": {
   "codemirror_mode": {
    "name": "ipython",
    "version": 3
   },
   "file_extension": ".py",
   "mimetype": "text/x-python",
   "name": "python",
   "nbconvert_exporter": "python",
   "pygments_lexer": "ipython3",
   "version": "3.11.3"
  },
  "orig_nbformat": 4
 },
 "nbformat": 4,
 "nbformat_minor": 2
}
