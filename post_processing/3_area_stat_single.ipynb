{
 "cells": [
  {
   "cell_type": "code",
   "execution_count": 6,
   "metadata": {},
   "outputs": [],
   "source": [
    "import cv2\n",
    "import geopandas as gpd\n",
    "import numpy as np\n",
    "import pandas as pd\n",
    "import rasterio\n",
    "from osgeo import gdal, ogr, osr\n",
    "from rasterio.crs import CRS\n",
    "from rasterio.features import rasterize\n",
    "from rasterio.warp import calculate_default_transform\n",
    "from shapely.geometry import Point"
   ]
  },
  {
   "cell_type": "code",
   "execution_count": 7,
   "metadata": {},
   "outputs": [],
   "source": [
    "# 1. 文件路径\n",
    "input_raster = r\"D:\\UAV_DATA_NEW\\output\\2_dilated\\061301_dilated.tif\"\n",
    "input_vector = r\"D:\\UAV_DATA_NEW\\output\\3_polygonized\\061301_polygonized.shp\"\n",
    "filtered_thin_vector = r\"D:\\UAV_DATA_NEW\\output\\4_thin\\061301_thin.shp\"\n",
    "filtered_fat_vector = r'D:\\UAV_DATA_NEW\\output\\4_fat\\061301_fat.shp'\n",
    "output_raster_thin = r'D:\\UAV_DATA_NEW\\output\\4_thin\\061301_thin.tif'\n",
    "output_raster_fat = r'D:\\UAV_DATA_NEW\\output\\4_fat\\061301_fat.tif'"
   ]
  },
  {
   "cell_type": "code",
   "execution_count": 8,
   "metadata": {},
   "outputs": [],
   "source": [
    "# 提取X、Y方向的像素大小，单个像素面积\n",
    "src = rasterio.open(input_raster)\n",
    "\n",
    "transform = src.transform\n",
    "pixel_width = transform[0]\n",
    "pixel_height = transform[4]\n",
    "area = abs(pixel_width * pixel_height)\n",
    "\n",
    "profile = src.profile\n",
    "width = src.width\n",
    "height = src.height\n",
    "\n",
    "src.close()\n",
    "\n",
    "interval = 0.62"
   ]
  },
  {
   "cell_type": "code",
   "execution_count": 9,
   "metadata": {},
   "outputs": [],
   "source": [
    "# 3. 矢量筛选，只保留短边合适的多边形用于统计面积\n",
    "\n",
    "\n",
    "def cut_polygon(geom):\n",
    "    \"\"\"\n",
    "    Cut OBB rectangle into grids\n",
    "    \"\"\"\n",
    "    obb = geom.minimum_rotated_rectangle.exterior.coords\n",
    "    p1, p2, p3 = Point(obb[0]), Point(obb[1]), Point(obb[2])\n",
    "    dist1, dist2 = p1.distance(p2), p2.distance(p3)\n",
    "    max_dist = max(dist1, dist2)\n",
    "    return int(round(max_dist / interval) + int(max_dist * 2 < interval))\n",
    "\n",
    "\n",
    "def _polygon_filter(geom, i) -> bool:\n",
    "    if cut_polygon(geom.geometry) <= 3:\n",
    "        return False\n",
    "\n",
    "    coords = geom.geometry.minimum_rotated_rectangle.exterior.coords\n",
    "    p1 = Point(coords[0])\n",
    "    p2 = Point(coords[1])\n",
    "    p3 = Point(coords[2])\n",
    "    edge1 = p1.distance(p2)\n",
    "    edge2 = p2.distance(p3)\n",
    "    min_edge = min(edge1, edge2)\n",
    "    return min_edge < 1.15\n"
   ]
  },
  {
   "cell_type": "code",
   "execution_count": 10,
   "metadata": {},
   "outputs": [],
   "source": [
    "gdf = gpd.read_file(input_vector)\n",
    "\n",
    "# filter = gdf.apply(polygon_filter, axis=1)\n",
    "# thin_gdf = gdf.loc[filter]\n",
    "# fat_gdf = gdf.loc[~filter]\n",
    "\n",
    "# thin_gdf.to_file(filtered_thin_vector)\n",
    "# fat_gdf.to_file(filtered_fat_vector)\n"
   ]
  },
  {
   "cell_type": "code",
   "execution_count": 11,
   "metadata": {},
   "outputs": [],
   "source": [
    "# # 胖连通域，需要分割\n",
    "# out = np.zeros((height, width), dtype=np.uint8)\n",
    "# rasterize(fat_gdf['geometry'], out=out, transform=transform, default_value=1)\n",
    "\n",
    "# with rasterio.open(output_raster_fat, 'w', **profile) as dst:\n",
    "#     dst.write(out, 1)\n",
    "\n",
    "# # 瘦连通域，不需要分割\n",
    "# out = np.zeros((height, width), dtype=np.uint8)\n",
    "# rasterize(thin_gdf['geometry'], out=out, transform=transform, default_value=1)\n",
    "\n",
    "# with rasterio.open(output_raster_thin, 'w', **profile) as dst:\n",
    "#     dst.write(out, 1)"
   ]
  },
  {
   "cell_type": "code",
   "execution_count": 18,
   "metadata": {},
   "outputs": [
    {
     "name": "stdout",
     "output_type": "stream",
     "text": [
      "2, 0.260064, 0.247061, 0.6449%\n",
      "3, 0.285306, 0.271041, 0.1259%\n",
      "4, 0.301217, 0.286157, 0.0362%\n",
      "5, 0.310458, 0.294935, 0.1970%\n",
      "6, 0.318833, 0.302891, 0.0202%\n",
      "7, 0.325763, 0.309475, 0.0594%\n",
      "8, 0.332177, 0.315568, 0.1428%\n",
      "9, 0.336882, 0.320038, 0.1091%\n",
      "10, 0.341462, 0.324389, 0.0000%\n",
      "11, 0.346016, 0.328715, 0.0601%\n",
      "12, 0.350439, 0.332917, 0.0695%\n",
      "13, 0.353013, 0.335363, 0.0000%\n",
      "14, 0.356044, 0.338242, 0.1020%\n"
     ]
    }
   ],
   "source": [
    "cut_num = 2\n",
    "\n",
    "\n",
    "def polygon_filter(geom) -> bool:\n",
    "    coords = geom.geometry.minimum_rotated_rectangle.exterior.coords\n",
    "    p1 = Point(coords[0])\n",
    "    p2 = Point(coords[1])\n",
    "    p3 = Point(coords[2])\n",
    "    edge1 = p1.distance(p2)\n",
    "    edge2 = p2.distance(p3)\n",
    "    min_edge = min(edge1, edge2)\n",
    "    if min_edge < 1.15:\n",
    "        if cut_polygon(geom.geometry) == cut_num:\n",
    "            return True\n",
    "        return False\n",
    "    return False\n",
    "\n",
    "\n",
    "for i in range(2, 15):\n",
    "    cut_num = i\n",
    "    filter = gdf.apply(polygon_filter, axis=1)\n",
    "    thin_gdf = gdf.loc[filter]\n",
    "    num_cuts = np.array([cut_polygon(geom) for geom in thin_gdf['geometry']])\n",
    "    avg_area = thin_gdf.area.sum() / sum(num_cuts)\n",
    "    num_cuts_validate = np.round(np.array([area / avg_area for area in thin_gdf.area]))\n",
    "    precision = abs((num_cuts_validate - num_cuts).sum()) / num_cuts.sum() * 100\n",
    "\n",
    "    print(f'{cut_num}, {avg_area:.6f}, {avg_area * 0.95:.6f}, { precision:.4f}%')\n"
   ]
  },
  {
   "cell_type": "code",
   "execution_count": 13,
   "metadata": {},
   "outputs": [],
   "source": [
    "# # 2. 栅格转矢量，太慢了，用arcgis吧\n",
    "# sp_ref = osr.SpatialReference()\n",
    "# sp_ref.SetFromUserInput('EPSG:4326')\n",
    "\n",
    "# source_band = src.read(1)\n",
    "# mask_band_nodata = source_band.GetMaskBand()\n",
    "\n",
    "# driver = ogr.GetDriverByName('ESRI Shapefile')\n",
    "# dst_ds = driver.CreateDataSource(input_vector)\n",
    "# dst_layer = dst_ds.CreateLayer('polygonized', srs=sp_ref)\n",
    "\n",
    "# fd = ogr.FieldDefn('DN', ogr.OFTInteger)\n",
    "# dst_layer.CreateField(fd)\n",
    "# dst_field = 0\n",
    "\n",
    "# # 参数  输入栅格图像波段、掩码图像波段、矢量化后的矢量图层、需要将DN值写入矢量字段的索引、算法选项\n",
    "# gdal.Polygonize(source_band, mask_band_nodata, dst_layer, dst_field, [])\n",
    "\n",
    "# dst_ds = None"
   ]
  }
 ],
 "metadata": {
  "kernelspec": {
   "display_name": "tobacco",
   "language": "python",
   "name": "python3"
  },
  "language_info": {
   "codemirror_mode": {
    "name": "ipython",
    "version": 3
   },
   "file_extension": ".py",
   "mimetype": "text/x-python",
   "name": "python",
   "nbconvert_exporter": "python",
   "pygments_lexer": "ipython3",
   "version": "3.10.10"
  },
  "orig_nbformat": 4
 },
 "nbformat": 4,
 "nbformat_minor": 2
}
