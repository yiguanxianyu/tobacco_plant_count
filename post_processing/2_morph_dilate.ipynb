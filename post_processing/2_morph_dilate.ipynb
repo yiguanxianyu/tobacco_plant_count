{
 "cells": [
  {
   "cell_type": "code",
   "execution_count": 10,
   "metadata": {},
   "outputs": [],
   "source": [
    "from pathlib import Path\n",
    "\n",
    "import cv2\n",
    "import numpy as np\n",
    "import rasterio\n",
    "from tqdm import tqdm\n",
    "from skimage import morphology"
   ]
  },
  {
   "cell_type": "code",
   "execution_count": 11,
   "metadata": {},
   "outputs": [],
   "source": [
    "def run(input_raster, output_raster):\n",
    "    src = rasterio.open(input_raster)\n",
    "    src_img = src.read(1)\n",
    "    profile = src.meta.copy()\n",
    "    profile.update({'compress': 'deflate'})\n",
    "    src.close()\n",
    "    # 连通组件分析\n",
    "\n",
    "    kernel = morphology.square(3)  # 3*3的正方形腐蚀核\n",
    "    img_dilated = morphology.dilation(src_img, kernel)  # 膨胀\n",
    "    edge_dilated = img_dilated - src_img  # 膨胀后的图像减去腐蚀后的图像，得到边缘\n",
    "    edge_dilated = morphology.skeletonize(edge_dilated)\n",
    "    xs_, ys_ = np.where(edge_dilated == 1)\n",
    "\n",
    "    # 腐蚀后计算连通域\n",
    "    _, labels_eroded, _, _ = cv2.connectedComponentsWithStats(src_img, connectivity=8)\n",
    "\n",
    "    with tqdm(range(len(xs_)), desc='Progress') as tbar:\n",
    "        # 对于每一个可能的关键点\n",
    "        for x, y in zip(xs_, ys_):\n",
    "            # 获取该点在腐蚀图像中的邻域\n",
    "            neighborhood = set(labels_eroded[x - 1:x + 2, y - 2:y + 3].reshape(-1))\n",
    "            neighborhood.update(labels_eroded[x - 2, y - 1:y + 2].reshape(-1))\n",
    "            neighborhood.update(labels_eroded[x + 2, y - 1:y + 2].reshape(-1))\n",
    "\n",
    "            # 如果邻域包含不同的连通域\n",
    "            if len(neighborhood) > 2:  # 包括背景0\n",
    "                # 那么这个点就可能是关键点\n",
    "                img_dilated[x, y] = 0\n",
    "\n",
    "            tbar.update()\n",
    "\n",
    "    with rasterio.open(output_raster, 'w', **profile) as dst:\n",
    "        dst.write(img_dilated, 1)\n"
   ]
  },
  {
   "cell_type": "code",
   "execution_count": 12,
   "metadata": {},
   "outputs": [
    {
     "name": "stdout",
     "output_type": "stream",
     "text": [
      "061301_dilated.tif\n"
     ]
    },
    {
     "name": "stderr",
     "output_type": "stream",
     "text": [
      "Progress: 100%|██████████| 144262/144262 [00:00<00:00, 274698.01it/s]\n"
     ]
    },
    {
     "name": "stdout",
     "output_type": "stream",
     "text": [
      "061302_dilated.tif\n"
     ]
    },
    {
     "name": "stderr",
     "output_type": "stream",
     "text": [
      "Progress: 100%|██████████| 252202/252202 [00:00<00:00, 289575.21it/s]\n"
     ]
    },
    {
     "name": "stdout",
     "output_type": "stream",
     "text": [
      "061303_dilated.tif\n"
     ]
    },
    {
     "name": "stderr",
     "output_type": "stream",
     "text": [
      "Progress: 100%|██████████| 259054/259054 [00:00<00:00, 272059.29it/s]\n"
     ]
    }
   ],
   "source": [
    "# 设置目录路径和文件后缀\n",
    "dir_path = Path(r'D:\\UAV_DATA_NEW\\train_sample')\n",
    "output_path = Path(r'D:\\UAV_DATA_NEW\\train_sample_dia')\n",
    "\n",
    "# 循环处理每个文件\n",
    "for input_raster in dir_path.glob(f'*.tif'):\n",
    "    file_name = input_raster.stem[:6]\n",
    "    output_raster = output_path / f'{file_name}_dilated.tif'\n",
    "    print(output_raster.name)\n",
    "    run(input_raster, output_raster)\n"
   ]
  }
 ],
 "metadata": {
  "kernelspec": {
   "display_name": "tobacco",
   "language": "python",
   "name": "python3"
  },
  "language_info": {
   "codemirror_mode": {
    "name": "ipython",
    "version": 3
   },
   "file_extension": ".py",
   "mimetype": "text/x-python",
   "name": "python",
   "nbconvert_exporter": "python",
   "pygments_lexer": "ipython3",
   "version": "3.11.3"
  },
  "orig_nbformat": 4
 },
 "nbformat": 4,
 "nbformat_minor": 2
}
