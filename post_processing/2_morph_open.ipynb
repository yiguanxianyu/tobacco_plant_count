{
 "cells": [
  {
   "cell_type": "code",
   "execution_count": 1,
   "metadata": {},
   "outputs": [],
   "source": [
    "from pathlib import Path\n",
    "\n",
    "import cv2\n",
    "import numpy as np\n",
    "import rasterio\n",
    "from tqdm import tqdm\n",
    "from skimage import morphology"
   ]
  },
  {
   "cell_type": "code",
   "execution_count": 2,
   "metadata": {},
   "outputs": [],
   "source": [
    "def run(input_raster, output_raster):\n",
    "    src = rasterio.open(input_raster)\n",
    "    src_img = src.read(1)\n",
    "    profile = src.meta.copy()\n",
    "    profile.update({'compress': 'deflate'})\n",
    "    src.close()\n",
    "    # 连通组件分析\n",
    "\n",
    "    kernel = morphology.square(3)  # 3*3的正方形腐蚀核\n",
    "    img_eroded = morphology.erosion(src_img, kernel)  # 先腐蚀\n",
    "    img_dilated = morphology.dilation(img_eroded, kernel)  # 再膨胀\n",
    "    edge_dilated = img_dilated - img_eroded  # 膨胀后的图像减去腐蚀后的图像，得到边缘\n",
    "    edge_dilated = morphology.skeletonize(edge_dilated)\n",
    "    xs_, ys_ = np.where(edge_dilated == 1)\n",
    "\n",
    "    # 腐蚀后计算连通域\n",
    "    _, labels_eroded, _, _ = cv2.connectedComponentsWithStats(img_eroded, connectivity=8)\n",
    "\n",
    "    with tqdm(range(len(xs_)), desc='Progress') as tbar:\n",
    "        # 对于每一个可能的关键点\n",
    "        for x, y in zip(xs_, ys_):\n",
    "            # 获取该点在腐蚀图像中的邻域\n",
    "            neighborhood = set(labels_eroded[x - 1:x + 2, y - 2:y + 3].reshape(-1))\n",
    "            neighborhood.update(labels_eroded[x - 2, y - 1:y + 2].reshape(-1))\n",
    "            neighborhood.update(labels_eroded[x + 2, y - 1:y + 2].reshape(-1))\n",
    "\n",
    "            # 如果邻域包含不同的连通域\n",
    "            if len(neighborhood) > 2:  # 包括背景0\n",
    "                # 那么这个点就可能是关键点\n",
    "                img_dilated[x, y] = 0\n",
    "\n",
    "            tbar.update()\n",
    "\n",
    "    with rasterio.open(output_raster, 'w', **profile) as dst:\n",
    "        dst.write(img_dilated, 1)\n"
   ]
  },
  {
   "cell_type": "code",
   "execution_count": 3,
   "metadata": {},
   "outputs": [
    {
     "name": "stdout",
     "output_type": "stream",
     "text": [
      "061301_dilated.tif\n"
     ]
    },
    {
     "name": "stderr",
     "output_type": "stream",
     "text": [
      "Progress: 100%|██████████| 6890679/6890679 [00:24<00:00, 282532.29it/s]\n"
     ]
    },
    {
     "name": "stdout",
     "output_type": "stream",
     "text": [
      "061302_dilated.tif\n"
     ]
    },
    {
     "name": "stderr",
     "output_type": "stream",
     "text": [
      "Progress: 100%|██████████| 10887469/10887469 [00:42<00:00, 258051.87it/s]\n"
     ]
    },
    {
     "name": "stdout",
     "output_type": "stream",
     "text": [
      "061303_dilated.tif\n"
     ]
    },
    {
     "name": "stderr",
     "output_type": "stream",
     "text": [
      "Progress: 100%|██████████| 23307477/23307477 [01:21<00:00, 285623.05it/s]\n"
     ]
    },
    {
     "name": "stdout",
     "output_type": "stream",
     "text": [
      "061306_dilated.tif\n"
     ]
    },
    {
     "name": "stderr",
     "output_type": "stream",
     "text": [
      "Progress: 100%|██████████| 3098505/3098505 [00:10<00:00, 283061.75it/s]\n"
     ]
    },
    {
     "name": "stdout",
     "output_type": "stream",
     "text": [
      "061308_dilated.tif\n"
     ]
    },
    {
     "name": "stderr",
     "output_type": "stream",
     "text": [
      "Progress: 100%|██████████| 1983356/1983356 [00:06<00:00, 287962.54it/s]\n"
     ]
    }
   ],
   "source": [
    "# 设置目录路径和文件后缀\n",
    "dir_path = Path(r'D:\\UAV_DATA_NEW\\output\\1_UTM47N')\n",
    "output_path = Path(r'D:\\UAV_DATA_NEW\\output\\2_dilated')\n",
    "\n",
    "# 循环处理每个文件\n",
    "for input_raster in dir_path.glob(f'*.tif'):\n",
    "    file_name = input_raster.stem[0:6]\n",
    "    output_raster = output_path / f'{file_name}_dilated.tif'\n",
    "    print(output_raster.name)\n",
    "    run(input_raster, output_raster)\n"
   ]
  },
  {
   "cell_type": "code",
   "execution_count": 4,
   "metadata": {},
   "outputs": [],
   "source": [
    "# def run(input_raster, output_raster):\n",
    "#     src = rasterio.open(input_raster)\n",
    "#     src_img = src.read(1)\n",
    "#     profile = src.profile\n",
    "#     src.close()\n",
    "#     # 连通组件分析\n",
    "#     kernel = morphology.square(3)  # 3*3的正方形腐蚀核\n",
    "#     img_eroded = morphology.erosion(src_img, kernel)  # 先腐蚀\n",
    "#     img_dilated = morphology.dilation(img_eroded, kernel)  # 再膨胀\n",
    "#     edge_dilated = img_dilated - img_eroded  # 膨胀后的图像减去腐蚀后的图像，得到边缘\n",
    "#     skeleton = morphology.skeletonize(edge_dilated)  # 骨架化\n",
    "#     sk_obj = Skeleton(skeleton)  # 骨架化对象\n",
    "\n",
    "#     branch_data = summarize(sk_obj)\n",
    "\n",
    "#     # j2e = branch_data.loc[branch_data['branch-type'] == 1] # j2e主要是被截掉的，通常不需要考虑\n",
    "#     j2j = branch_data.loc[branch_data['branch-type'] == 2]  # 交合点到交合点的枝干 junction to junction\n",
    "#     j2j = j2j[j2j['branch-distance'] <= 1.5]  # 寻找那些处于交点上的通路\n",
    "\n",
    "#     all_points = [sk_obj.path_coordinates(index) for index in j2j.index]\n",
    "#     intersected_points = np.unique(np.vstack(all_points), axis=0)\n",
    "#     img_dilated[intersected_points[:, 0], intersected_points[:, 1]] = 0\n",
    "\n",
    "#     with rasterio.open(output_raster, 'w', **profile) as dst:\n",
    "#         dst.write(img_dilated, 1)"
   ]
  },
  {
   "cell_type": "code",
   "execution_count": 5,
   "metadata": {},
   "outputs": [
    {
     "name": "stderr",
     "output_type": "stream",
     "text": [
      "Progress: 100%|██████████| 6890679/6890679 [00:26<00:00, 263017.23it/s]\n"
     ]
    }
   ],
   "source": [
    "input_raster = r'D:\\UAV_DATA_NEW\\output\\1_UTM47N\\061301_UTM47N.tif'\n",
    "\n",
    "src = rasterio.open(input_raster)\n",
    "src_img = src.read(1)\n",
    "profile = src.profile\n",
    "src.close()\n",
    "# 连通组件分析\n",
    "\n",
    "kernel = morphology.square(3)  # 3*3的正方形腐蚀核\n",
    "img_eroded = morphology.erosion(src_img, kernel)  # 先腐蚀\n",
    "img_dilated = morphology.dilation(img_eroded, kernel)  # 再膨胀\n",
    "edge_dilated = img_dilated - img_eroded  # 膨胀后的图像减去腐蚀后的图像，得到边缘\n",
    "edge_dilated = morphology.skeletonize(edge_dilated)\n",
    "xs_, ys_ = np.where(edge_dilated == 1)\n",
    "\n",
    "# 腐蚀后计算连通域\n",
    "_, labels_eroded, _, _ = cv2.connectedComponentsWithStats(img_eroded, connectivity=8)\n",
    "\n",
    "with tqdm(range(len(xs_)), desc='Progress') as tbar:\n",
    "    # 对于每一个可能的关键点\n",
    "    for x, y in zip(xs_, ys_):\n",
    "        # 获取该点在腐蚀图像中的方形邻域\n",
    "        neighborhood = set(labels_eroded[x - 1:x + 2, y - 2:y + 3].reshape(-1))\n",
    "        neighborhood.update(labels_eroded[x - 2, y - 1:y + 2].reshape(-1))\n",
    "        neighborhood.update(labels_eroded[x + 2, y - 1:y + 2].reshape(-1))\n",
    "\n",
    "        # 如果邻域包含不同的连通域\n",
    "        if len(neighborhood) > 2:  # 包括背景0\n",
    "            # 那么这个点就可能是关键点\n",
    "            img_dilated[x, y] = 0\n",
    "        tbar.update()\n",
    "\n",
    "\n",
    "with rasterio.open(r'D:\\UAV_DATA_NEW\\output\\061301_dilated_p.tif', 'w', **profile) as dst:\n",
    "    dst.write(img_dilated, 1)"
   ]
  }
 ],
 "metadata": {
  "kernelspec": {
   "display_name": "tobacco",
   "language": "python",
   "name": "python3"
  },
  "language_info": {
   "codemirror_mode": {
    "name": "ipython",
    "version": 3
   },
   "file_extension": ".py",
   "mimetype": "text/x-python",
   "name": "python",
   "nbconvert_exporter": "python",
   "pygments_lexer": "ipython3",
   "version": "3.11.3"
  },
  "orig_nbformat": 4
 },
 "nbformat": 4,
 "nbformat_minor": 2
}
