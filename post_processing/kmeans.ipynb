{
 "cells": [
  {
   "cell_type": "code",
   "execution_count": 1,
   "metadata": {},
   "outputs": [],
   "source": [
    "import os\n",
    "\n",
    "os.environ[\"OMP_NUM_THREADS\"] = '1'\n",
    "import cv2\n",
    "import geopandas as gpd\n",
    "import numpy as np\n",
    "from shapely.geometry import LineString, Point, Polygon\n",
    "from sklearn.cluster import KMeans\n",
    "import rasterio\n",
    "from tqdm import tqdm"
   ]
  },
  {
   "cell_type": "code",
   "execution_count": 2,
   "metadata": {},
   "outputs": [],
   "source": [
    "# 1. 文件路径\n",
    "\n",
    "# input_raster_thin = r\"D:\\UAV_DATA_NEW\\output\\4_thin\\061410_thin.tif\"\n",
    "input_raster = r\"D:\\UAV_DATA_NEW\\output\\2_dilated\\061301_dilated.tif\"\n",
    "output_clustering_kmeans_result = r'D:\\UAV_DATA_NEW\\output\\5_result_pixels\\061301_kmeans_pointprocessed.tif'\n",
    "output_centroid = r'D:\\UAV_DATA_NEW\\output\\5_result_centroids\\061301_kmeans_centroid_pointprocessed.shp'"
   ]
  },
  {
   "cell_type": "code",
   "execution_count": 3,
   "metadata": {},
   "outputs": [
    {
     "name": "stdout",
     "output_type": "stream",
     "text": [
      "61.38802795261512 0.005110914643522676\n"
     ]
    }
   ],
   "source": [
    "src = rasterio.open(input_raster)\n",
    "transform = src.transform\n",
    "\n",
    "area_per_pixel = abs(transform[0] * transform[4])\n",
    "mean_area = 0.313748971\n",
    "mean_area_pixel = mean_area / area_per_pixel\n",
    "print(mean_area_pixel, area_per_pixel)"
   ]
  },
  {
   "cell_type": "code",
   "execution_count": 4,
   "metadata": {},
   "outputs": [],
   "source": [
    "img = src.read(1)\n",
    "num_labels, labels, stats, centroids = cv2.connectedComponentsWithStats(img, connectivity=4)\n",
    "img_shape = img.shape\n",
    "img = None\n",
    "\n",
    "output_img = np.zeros(img_shape, dtype=np.uint8)\n",
    "\n",
    "n_clusters = np.round(stats[:, 4] / mean_area_pixel).astype(int)\n",
    "n_clusters[n_clusters == 0] = 1\n",
    "\n",
    "all_points = []"
   ]
  },
  {
   "cell_type": "code",
   "execution_count": 5,
   "metadata": {},
   "outputs": [
    {
     "name": "stderr",
     "output_type": "stream",
     "text": [
      "Progress: 100%|█████████▉| 179546/179639 [02:05<00:00, 1433.82it/s]\n"
     ]
    }
   ],
   "source": [
    "# KMeans\n",
    "with tqdm(range(num_labels - 1), desc='Progress') as tbar:\n",
    "    for i in range(1, num_labels):\n",
    "        y0, x0, h, w, num_pixels = stats[i]\n",
    "\n",
    "        # 跳过过小的块\n",
    "        if num_pixels < 4:\n",
    "            continue\n",
    "\n",
    "        x, y = np.where(labels[x0:x0 + w, y0:y0 + h] == i)\n",
    "        x += x0\n",
    "        y += y0\n",
    "\n",
    "        coords = np.stack((x, y), axis=1)\n",
    "        k = n_clusters[i]\n",
    "        kmeans = KMeans(n_clusters=k, n_init='auto', random_state=0)\n",
    "        kmeans.fit(coords)\n",
    "\n",
    "        output_img[x, y] = kmeans.labels_ + 1\n",
    "\n",
    "        cluster_centers = kmeans.cluster_centers_\n",
    "\n",
    "        if k <= 2:\n",
    "            all_points.extend(Point(src.xy(*i)) for i in cluster_centers)\n",
    "        else:\n",
    "            centeroids = []\n",
    "            for index, center in enumerate(cluster_centers):\n",
    "                centroid = Point(src.xy(*center))\n",
    "                distances = [centroid.distance(i) for i in centeroids]\n",
    "                if distances:\n",
    "                    min_dist = min(distances)\n",
    "                    if min_dist > 0.45:\n",
    "                        centeroids.append(centroid)\n",
    "                    else:\n",
    "                        point = centeroids.pop(distances.index(min_dist))\n",
    "                        new_x = (point.x + centroid.x) / 2\n",
    "                        new_y = (point.y + centroid.y) / 2\n",
    "                        centeroids.append(Point(new_x, new_y))\n",
    "                else:\n",
    "                    centeroids.append(centroid)\n",
    "\n",
    "            all_points.extend(centeroids)\n",
    "\n",
    "        tbar.update()\n"
   ]
  },
  {
   "cell_type": "code",
   "execution_count": 6,
   "metadata": {},
   "outputs": [],
   "source": [
    "with rasterio.open(output_clustering_kmeans_result, 'w', **src.meta) as dst:\n",
    "    dst.write(output_img, 1)"
   ]
  },
  {
   "cell_type": "code",
   "execution_count": 7,
   "metadata": {},
   "outputs": [],
   "source": [
    "geometry = gpd.GeoSeries(all_points, crs=src.crs)\n",
    "geometry.to_file(output_centroid, driver='ESRI Shapefile')"
   ]
  }
 ],
 "metadata": {
  "kernelspec": {
   "display_name": "tobacco",
   "language": "python",
   "name": "python3"
  },
  "language_info": {
   "codemirror_mode": {
    "name": "ipython",
    "version": 3
   },
   "file_extension": ".py",
   "mimetype": "text/x-python",
   "name": "python",
   "nbconvert_exporter": "python",
   "pygments_lexer": "ipython3",
   "version": "3.10.10"
  },
  "orig_nbformat": 4
 },
 "nbformat": 4,
 "nbformat_minor": 2
}
